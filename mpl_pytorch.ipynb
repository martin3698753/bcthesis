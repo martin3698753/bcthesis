{
 "cells": [
  {
   "cell_type": "code",
   "execution_count": 87,
   "id": "f4e687d8-ed22-4db6-9d57-226361ea570e",
   "metadata": {},
   "outputs": [],
   "source": [
    "# Hyperparameters\n",
    "seq_length = 300 #window\n",
    "batch_size = 16\n",
    "hidden_size = 2  # Number of neurons in the hidden layers\n",
    "num_layers = 1  # Number of hidden layers\n",
    "learning_rate = 0.0001\n",
    "num_epochs = 200"
   ]
  },
  {
   "cell_type": "code",
   "execution_count": 88,
   "id": "1686f63a-dc51-49b5-95a9-31504eeb9430",
   "metadata": {},
   "outputs": [],
   "source": [
    "import torch\n",
    "import torch.nn as nn\n",
    "import torch.optim as optim\n",
    "import numpy as np\n",
    "import matplotlib.pyplot as plt\n",
    "from torch.utils.data import DataLoader, TensorDataset\n",
    "import maketab as mt\n",
    "\n",
    "#path_dir = 'data/31-1-25/'"
   ]
  },
  {
   "cell_type": "code",
   "execution_count": 89,
   "id": "3412c715-eef7-4d8a-81c7-9eb81f45deb7",
   "metadata": {},
   "outputs": [],
   "source": [
    "\"\"\"\n",
    "def load_data(path_dir):\n",
    "    t, signal = mt.battery(path_dir)\n",
    "    tleft = 1 - t / max(t)\n",
    "    return signal, tleft, t\n",
    "\"\"\"\n",
    "\n",
    "#\"\"\"\n",
    "def load_data(path_dir):\n",
    "    t = mt.time(path_dir)\n",
    "    tleft = 1 - t / max(t)\n",
    "    motor = mt.readcsv(path_dir+'motor.csv')\n",
    "    motor = (motor/65535)*100\n",
    "    thr = mt.thrust(path_dir)\n",
    "    av = mt.ang_vel(path_dir)\n",
    "    #me = thr*0.05*av*0.1\n",
    "    me = ((thr[1]/4)*av[1] + (thr[2]/4)*av[2] + (thr[3]/4)*av[3] + (thr[4]/4)*av[4])*0.047*0.1*0.05\n",
    "    return me, tleft, t\n",
    "#\"\"\"\n",
    "\n",
    "train_data = load_data('data/31-1-25/')\n",
    "test_data = load_data('data/5-2-25/')"
   ]
  },
  {
   "cell_type": "code",
   "execution_count": 90,
   "id": "30b33d5b-2018-441b-aea9-e9b44018917a",
   "metadata": {},
   "outputs": [
    {
     "name": "stdout",
     "output_type": "stream",
     "text": [
      "torch.Size([3795, 5]) torch.Size([3795, 5])\n"
     ]
    }
   ],
   "source": [
    "def prep_data(data, seq_length, step=1):\n",
    "    input_data = data[0]\n",
    "    output_data = data[1]\n",
    "    time_data = data[2]\n",
    "    xs, ys = [], []\n",
    "    for i in range(0, len(input_data) - seq_length, step):\n",
    "        x = input_data[i:i + seq_length]\n",
    "        t = time_data[i:i + seq_length]\n",
    "        y = output_data[i:i + seq_length]\n",
    "        \n",
    "        slope2, slope, intercept = np.polyfit(t, x, 2)\n",
    "        mean = np.mean(x)\n",
    "        std = np.std(x)\n",
    "        slope = slope*10**5\n",
    "        slope2 = slope2*10**8\n",
    "        std = std*10**1\n",
    "        xs.append((slope2, slope, intercept, mean, std))\n",
    "\n",
    "        slope2, slope, intercept = np.polyfit(t, y, 2)\n",
    "        mean = np.mean(y)\n",
    "        std = np.std(y)\n",
    "        slope = slope*10**5\n",
    "        slope2 = slope2*10**8\n",
    "        std = std*10**1\n",
    "        ys.append((slope2, slope, intercept, mean, std))\n",
    "        \n",
    "    xs = np.array(xs)\n",
    "    ys = np.array(ys)\n",
    "    X_train = torch.tensor(xs, dtype=torch.float32)  # Shape: (batch_size, seq_length)\n",
    "    y_train = torch.tensor(ys, dtype=torch.float32)  # Shape: (batch_size, seq_length)\n",
    "    return X_train, y_train\n",
    "\n",
    "X_train, y_train = prep_data(train_data, seq_length)\n",
    "X_test, y_test = prep_data(test_data, seq_length)\n",
    "\n",
    "# Create training DataLoader for batching\n",
    "dataset = TensorDataset(X_train, y_train)\n",
    "dataloader = DataLoader(dataset, batch_size=batch_size, shuffle=True)\n",
    "print(X_train.shape, y_train.shape)"
   ]
  },
  {
   "cell_type": "code",
   "execution_count": 91,
   "id": "f2f1dad2-5464-4443-a9f6-453ac9cb201e",
   "metadata": {},
   "outputs": [],
   "source": [
    "input_size = X_train.shape[1]\n",
    "output_size = y_train.shape[1]"
   ]
  },
  {
   "cell_type": "code",
   "execution_count": 92,
   "id": "32cb10b2-006e-4cda-afcf-bb7712412ba3",
   "metadata": {},
   "outputs": [
    {
     "data": {
      "text/plain": [
       "'\\nclass MLP(nn.Module):\\n    def __init__(self, input_size, hidden_size, output_size):\\n        super(MLP, self).__init__()\\n        self.fc1 = nn.Linear(input_size, hidden_size)\\n        self.fc2 = nn.Linear(hidden_size, hidden_size // 2)\\n        self.fc3 = nn.Linear(hidden_size // 2, output_size)\\n        self.relu = nn.ReLU()\\n\\n    def forward(self, x):\\n        out = self.fc1(x)\\n        out = self.relu(out)\\n        out = self.fc2(out)\\n        out = self.relu(out)\\n        out = self.fc3(out)\\n        return out\\n'"
      ]
     },
     "execution_count": 92,
     "metadata": {},
     "output_type": "execute_result"
    }
   ],
   "source": [
    "# Define the MLP model\n",
    "'''\n",
    "class MLP(nn.Module):\n",
    "    def __init__(self, input_size, hidden_size, output_size):\n",
    "        super(MLP, self).__init__()\n",
    "        self.fc1 = nn.Linear(input_size, hidden_size)\n",
    "        self.fc2 = nn.Linear(hidden_size, hidden_size // 2)\n",
    "        self.fc3 = nn.Linear(hidden_size // 2, output_size)\n",
    "        self.relu = nn.ReLU()\n",
    "\n",
    "    def forward(self, x):\n",
    "        out = self.fc1(x)\n",
    "        out = self.relu(out)\n",
    "        out = self.fc2(out)\n",
    "        out = self.relu(out)\n",
    "        out = self.fc3(out)\n",
    "        return out\n",
    "'''"
   ]
  },
  {
   "cell_type": "code",
   "execution_count": 93,
   "id": "89d835ec-15cd-414a-8903-1f4bbf47eb48",
   "metadata": {},
   "outputs": [],
   "source": [
    "class MLP(nn.Module):\n",
    "    def __init__(self, input_size, hidden_size, output_size):\n",
    "        super(MLP, self).__init__()\n",
    "        self.fc1 = nn.Linear(input_size, hidden_size)  # Input to hidden layer\n",
    "        self.fc2 = nn.Linear(hidden_size, output_size)  # Hidden to output layer\n",
    "        self.relu = nn.ReLU()  # Activation function\n",
    "\n",
    "    def forward(self, x):\n",
    "        out = self.fc1(x)  # Pass through the hidden layer\n",
    "        out = self.relu(out)  # Apply ReLU activation\n",
    "        out = self.fc2(out)  # Pass through the output layer\n",
    "        return out"
   ]
  },
  {
   "cell_type": "code",
   "execution_count": 94,
   "id": "900c86c3-c339-47ac-bb6c-61e19ff0a087",
   "metadata": {},
   "outputs": [],
   "source": [
    "# Initialize the model, loss function, and optimizer\n",
    "model = MLP(input_size, hidden_size, output_size)\n",
    "criterion = nn.MSELoss()\n",
    "optimizer = optim.Adam(model.parameters(), lr=learning_rate)"
   ]
  },
  {
   "cell_type": "code",
   "execution_count": 95,
   "id": "0e63e6b6-913c-4d15-b964-5e436e236e9c",
   "metadata": {},
   "outputs": [
    {
     "name": "stdout",
     "output_type": "stream",
     "text": [
      "Epoch [10/200], Loss: 0.7775\n",
      "Epoch [20/200], Loss: 0.1821\n",
      "Epoch [30/200], Loss: 0.0300\n",
      "Epoch [40/200], Loss: 0.0143\n",
      "Epoch [50/200], Loss: 0.0139\n",
      "Epoch [60/200], Loss: 0.0136\n",
      "Epoch [70/200], Loss: 0.0133\n",
      "Epoch [80/200], Loss: 0.0130\n",
      "Epoch [90/200], Loss: 0.0125\n",
      "Epoch [100/200], Loss: 0.0111\n",
      "Epoch [110/200], Loss: 0.0108\n",
      "Epoch [120/200], Loss: 0.0107\n",
      "Epoch [130/200], Loss: 0.0107\n",
      "Epoch [140/200], Loss: 0.0107\n",
      "Epoch [150/200], Loss: 0.0107\n",
      "Epoch [160/200], Loss: 0.0106\n",
      "Epoch [170/200], Loss: 0.0106\n",
      "Epoch [180/200], Loss: 0.0105\n",
      "Epoch [190/200], Loss: 0.0105\n",
      "Epoch [200/200], Loss: 0.0104\n"
     ]
    }
   ],
   "source": [
    "# Training loop\n",
    "def train(dataloader):\n",
    "    for epoch in range(num_epochs):\n",
    "        model.train()\n",
    "        epoch_loss = 0\n",
    "        for batch_X, batch_y in dataloader:\n",
    "            optimizer.zero_grad()\n",
    "            outputs = model(batch_X)  # Shape: (batch_size, seq_length)\n",
    "            loss = criterion(outputs, batch_y)  # Ensure shapes match\n",
    "            loss.backward()\n",
    "            optimizer.step()\n",
    "            epoch_loss += loss.item()\n",
    "    \n",
    "        if (epoch + 1) % 10 == 0:\n",
    "            print(f'Epoch [{epoch + 1}/{num_epochs}], Loss: {epoch_loss / len(dataloader):.4f}')\n",
    "\n",
    "train(dataloader)"
   ]
  },
  {
   "cell_type": "code",
   "execution_count": 102,
   "id": "4e4e2dbb-8e60-4ce2-bf03-295551f96a1a",
   "metadata": {},
   "outputs": [
    {
     "name": "stdout",
     "output_type": "stream",
     "text": [
      "Trenovaci\n"
     ]
    },
    {
     "data": {
      "image/png": "[encoded data removed]",
      "text/plain": [
       "<Figure size 640x480 with 1 Axes>"
      ]
     },
     "metadata": {},
     "output_type": "display_data"
    },
    {
     "name": "stdout",
     "output_type": "stream",
     "text": [
      "Testovaci\n"
     ]
    },
    {
     "data": {
      "image/png": "[encoded data removed]",
      "text/plain": [
       "<Figure size 640x480 with 1 Axes>"
      ]
     },
     "metadata": {},
     "output_type": "display_data"
    }
   ],
   "source": [
    "#slope2, slope, intercept, mean, std\n",
    "\n",
    "def eval(data):\n",
    "    model.eval()\n",
    "    with torch.no_grad():\n",
    "        \n",
    "        input_data = data[0]\n",
    "        output_data = data[1]\n",
    "        time_data = data[2]\n",
    "        for i in range(0, len(input_data) - seq_length, seq_length):\n",
    "            x = input_data[i:i + seq_length]\n",
    "            t = time_data[i:i + seq_length]\n",
    "            y = output_data[i:i + seq_length]\n",
    "\n",
    "            slope2, slope, intercept = np.polyfit(t, x, 2)\n",
    "            mean = np.mean(x)\n",
    "            std = np.std(x)\n",
    "            slope = slope*10**(5)\n",
    "            slope2 = slope2*10**(8)\n",
    "            std = std*10**(1)\n",
    "            X = torch.tensor((slope2, slope, intercept, mean, std), dtype=torch.float32)\n",
    "            pred = model(X).numpy()\n",
    "            reg = 10**(-8)*pred[0]*t**2 + 10**(-5)*pred[1]*t + pred[2]\n",
    "            \n",
    "            \n",
    "            plt.plot(t, x, c='blue')\n",
    "            plt.plot(t, y, c='red')\n",
    "            plt.plot(t, reg, c='green')\n",
    "            plt.errorbar(t[0], pred[3], pred[4], linestyle='None')\n",
    "            \n",
    "        plt.show()\n",
    "\n",
    "print(\"Trenovaci\")\n",
    "eval(train_data)\n",
    "print(\"Testovaci\")\n",
    "eval(test_data)"
   ]
  },
  {
   "cell_type": "code",
   "execution_count": null,
   "id": "27f4a5ee-0d68-4bcb-a971-20d4df38a14e",
   "metadata": {},
   "outputs": [],
   "source": []
  },
  {
   "cell_type": "code",
   "execution_count": null,
   "id": "9548d17f-f917-4194-8342-80ee54134b36",
   "metadata": {},
   "outputs": [],
   "source": []
  }
 ],
 "metadata": {
  "kernelspec": {
   "display_name": "Python 3 (ipykernel)",
   "language": "python",
   "name": "python3"
  },
  "language_info": {
   "codemirror_mode": {
    "name": "ipython",
    "version": 3
   },
   "file_extension": ".py",
   "mimetype": "text/x-python",
   "name": "python",
   "nbconvert_exporter": "python",
   "pygments_lexer": "ipython3",
   "version": "3.13.2"
  }
 },
 "nbformat": 4,
 "nbformat_minor": 5
}
