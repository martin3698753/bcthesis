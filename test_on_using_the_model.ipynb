{
 "cells": [
  {
   "cell_type": "code",
   "execution_count": 16,
   "id": "aa2c504a-c48d-4099-bb0c-d3003563a0cb",
   "metadata": {},
   "outputs": [],
   "source": [
    "import torch\n",
    "import torch.nn as nn\n",
    "import torch.optim as optim\n",
    "import numpy as np\n",
    "import matplotlib.pyplot as plt\n",
    "from torch.utils.data import DataLoader, TensorDataset\n",
    "import maketab as mt"
   ]
  },
  {
   "cell_type": "code",
   "execution_count": 17,
   "id": "8dee8ccc-4d98-4e59-80b0-4638d9ee9a9c",
   "metadata": {},
   "outputs": [],
   "source": [
    "# Define the MLP class (must match the original definition)\n",
    "class MLP(torch.nn.Module):\n",
    "    def __init__(self, input_size, hidden_size, output_size):\n",
    "        super(MLP, self).__init__()\n",
    "        self.fc1 = torch.nn.Linear(input_size, hidden_size)\n",
    "        self.fc2 = torch.nn.Linear(hidden_size, output_size)\n",
    "        self.relu = torch.nn.ReLU()\n",
    "\n",
    "    def forward(self, x):\n",
    "        out = self.fc1(x)\n",
    "        out = self.relu(out)\n",
    "        out = self.fc2(out)\n",
    "        return out"
   ]
  },
  {
   "cell_type": "code",
   "execution_count": 18,
   "id": "6832034b-6454-432f-aad0-a15e360cfbf2",
   "metadata": {},
   "outputs": [
    {
     "data": {
      "text/plain": [
       "<All keys matched successfully>"
      ]
     },
     "execution_count": 18,
     "metadata": {},
     "output_type": "execute_result"
    }
   ],
   "source": [
    "# Load the checkpoint\n",
    "checkpoint = torch.load('model_checkpoint.pth')\n",
    "\n",
    "# Extract architecture parameters\n",
    "seq_length = checkpoint['seq_length']\n",
    "num_layers = checkpoint['num_layers']\n",
    "starting_point = checkpoint['starting_point']\n",
    "input_size = checkpoint['input_size']\n",
    "hidden_size = checkpoint['hidden_size']\n",
    "output_size = checkpoint['output_size']\n",
    "\n",
    "# Instantiate the model\n",
    "model = MLP(input_size, hidden_size, output_size)\n",
    "\n",
    "# Load the state dictionary\n",
    "model.load_state_dict(checkpoint['state_dict'])"
   ]
  },
  {
   "cell_type": "code",
   "execution_count": 21,
   "id": "4defca4d-a22c-4c32-b6be-d5bbf9f7c90b",
   "metadata": {},
   "outputs": [],
   "source": [
    "def eval(model, data):\n",
    "    model.eval()\n",
    "    with torch.no_grad():\n",
    "        \n",
    "        input_data = data[0]\n",
    "        output_data = data[1]\n",
    "        time_data = data[2]\n",
    "        for i in range(starting_point, len(input_data) - seq_length, seq_length):\n",
    "            x = input_data[i:i + seq_length]\n",
    "            t = time_data[i:i + seq_length]\n",
    "            y = output_data[i:i + seq_length]\n",
    "\n",
    "            slope2, slope, intercept = np.polyfit(t, x, 2)\n",
    "            mean = np.mean(x)\n",
    "            std = np.std(x)\n",
    "            slope = slope*10**(5)\n",
    "            slope2 = slope2*10**(8)\n",
    "            std = std*10**(1)\n",
    "            X = torch.tensor((slope2, slope, intercept, mean, std), dtype=torch.float32)\n",
    "            pred = model(X).numpy()\n",
    "            reg = 10**(-8)*pred[0]*t**2 + 10**(-5)*pred[1]*t + pred[2]\n",
    "            \n",
    "            \n",
    "            plt.plot(t, x, c='blue')\n",
    "            plt.plot(t, y, c='red')\n",
    "            plt.plot(t, reg, c='green')\n",
    "            plt.errorbar(t[0], pred[3], pred[4], linestyle='None')\n",
    "            \n",
    "        plt.show()"
   ]
  },
  {
   "cell_type": "code",
   "execution_count": 22,
   "id": "8d650eb5-170e-4ffe-b889-ea69691abf37",
   "metadata": {},
   "outputs": [
    {
     "name": "stdout",
     "output_type": "stream",
     "text": [
      "Evaluating on test data...\n"
     ]
    },
    {
     "data": {
      "image/png": "[encoded data removed]",
      "text/plain": [
       "<Figure size 640x480 with 1 Axes>"
      ]
     },
     "metadata": {},
     "output_type": "display_data"
    }
   ],
   "source": [
    "# Load your test data (replace this with your actual data loading code)\n",
    "def load_data(path_dir):\n",
    "    t, signal = mt.battery(path_dir)\n",
    "    tleft = 1 - t / max(t)\n",
    "    return signal, tleft, t\n",
    "\n",
    "test_data = load_data('data/5-2-25/')\n",
    "\n",
    "# Evaluate the model on the test data\n",
    "print(\"Evaluating on test data...\")\n",
    "eval(model, test_data)"
   ]
  },
  {
   "cell_type": "code",
   "execution_count": null,
   "id": "f876d2f7-d2bf-433a-a8dc-37872004e7d6",
   "metadata": {},
   "outputs": [],
   "source": []
  }
 ],
 "metadata": {
  "kernelspec": {
   "display_name": "Python 3 (ipykernel)",
   "language": "python",
   "name": "python3"
  },
  "language_info": {
   "codemirror_mode": {
    "name": "ipython",
    "version": 3
   },
   "file_extension": ".py",
   "mimetype": "text/x-python",
   "name": "python",
   "nbconvert_exporter": "python",
   "pygments_lexer": "ipython3",
   "version": "3.13.2"
  }
 },
 "nbformat": 4,
 "nbformat_minor": 5
}
